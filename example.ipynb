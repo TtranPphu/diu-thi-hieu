{
 "cells": [
  {
   "cell_type": "code",
   "execution_count": null,
   "metadata": {},
   "outputs": [],
   "source": [
    "import tls_requests\n",
    "from bs4 import BeautifulSoup as Soup\n",
    "import csv"
   ]
  },
  {
   "cell_type": "code",
   "execution_count": null,
   "metadata": {},
   "outputs": [],
   "source": [
    "response = tls_requests.get(\"https://itviec.com/viec-lam-it/technical-leader-java-esoft-vietnam-ltd-0457?lab_feature=preview_jd_page\")\n",
    "print(response.text)"
   ]
  },
  {
   "cell_type": "code",
   "execution_count": null,
   "metadata": {},
   "outputs": [],
   "source": [
    "soup = Soup(response.text, \"html.parser\")\n",
    "job_header_info = soup.find(\"div\", class_=\"job-header-info\")\n",
    "data = {}\n",
    "try:\n",
    "    data[\"title\"] = job_header_info.find(\"h1\").text.strip()\n",
    "    data[\"company\"] = job_header_info.find(\n",
    "        \"div\", class_=\"employer-name\"\n",
    "    ).text.strip()\n",
    "    data[\"salary\"] = job_header_info.find(\"span\", class_=\"ips-2\").text.strip()\n",
    "except:\n",
    "    pass\n",
    "\n",
    "print(data)"
   ]
  },
  {
   "cell_type": "code",
   "execution_count": null,
   "metadata": {},
   "outputs": [],
   "source": [
    "with open(\"data.csv\", \"w\", newline=\"\") as file:\n",
    "    w = csv.DictWriter(file, data.keys())\n",
    "    w.writeheader()\n",
    "    w.writerow(data)\n"
   ]
  }
 ],
 "metadata": {
  "kernelspec": {
   "display_name": ".venv",
   "language": "python",
   "name": "python3"
  },
  "language_info": {
   "codemirror_mode": {
    "name": "ipython",
    "version": 3
   },
   "file_extension": ".py",
   "mimetype": "text/x-python",
   "name": "python",
   "nbconvert_exporter": "python",
   "pygments_lexer": "ipython3",
   "version": "3.12.9"
  }
 },
 "nbformat": 4,
 "nbformat_minor": 2
}
